{
 "cells": [
  {
   "cell_type": "code",
   "execution_count": 18,
   "metadata": {},
   "outputs": [
    {
     "name": "stdout",
     "output_type": "stream",
     "text": [
      "Collecting opencv-python\n",
      "  Using cached opencv_python-4.4.0.44-cp38-cp38-win_amd64.whl (33.5 MB)\n",
      "Requirement already satisfied: numpy>=1.17.3 in c:\\users\\nidhi\\anaconda3\\lib\\site-packages (from opencv-python) (1.18.5)\n",
      "Installing collected packages: opencv-python\n",
      "Successfully installed opencv-python-4.4.0.44\n",
      "Note: you may need to restart the kernel to use updated packages.\n"
     ]
    }
   ],
   "source": [
    "pip install opencv-python"
   ]
  },
  {
   "cell_type": "code",
   "execution_count": 1,
   "metadata": {},
   "outputs": [],
   "source": [
    "from pandas.errors import EmptyDataError\n",
    "import pandas as pd \n",
    "import numpy as np \n",
    "import os.path \n",
    "import cv2\n",
    "from sklearn.neighbors import KNeighborsClassifier "
   ]
  },
  {
   "cell_type": "code",
   "execution_count": 2,
   "metadata": {},
   "outputs": [],
   "source": [
    "#function to convert data to csv  \n",
    "f_name = \"/Users/Nidhi/Desktop/Jupyter Notebooks/datasets/face_data.csv\"\n",
    "def write_to_csv(name, data): \n",
    "    if os.path.isfile(f_name): \n",
    "        print(\"File exists\")\n",
    "        df = pd.read_csv(f_name, index_col = 0) \n",
    "        latest = pd.DataFrame(data, columns = map(str, range(10000))) \n",
    "        latest[\"name\"] = name \n",
    "        df = pd.concat((df, latest), ignore_index = True, sort = False) \n",
    "    else:  \n",
    "        df = pd.DataFrame(data, columns = map(str, range(10000))) \n",
    "        df[\"name\"] = name \n",
    "    df.to_csv(f_name) "
   ]
  },
  {
   "cell_type": "code",
   "execution_count": 5,
   "metadata": {},
   "outputs": [
    {
     "name": "stdout",
     "output_type": "stream",
     "text": [
      "Enter you name: Savitha\n"
     ]
    }
   ],
   "source": [
    "name = input(\"Enter you name: \")"
   ]
  },
  {
   "cell_type": "code",
   "execution_count": 6,
   "metadata": {},
   "outputs": [],
   "source": [
    "capture = cv2.VideoCapture(0)"
   ]
  },
  {
   "cell_type": "code",
   "execution_count": 7,
   "metadata": {},
   "outputs": [],
   "source": [
    "classifier = cv2.CascadeClassifier(\"/Users/Nidhi/Desktop/Jupyter Notebooks/datasets/haarcascade_frontalface_default.xml\")\n",
    "#Cascade Classifier is an algo that takes a list of positive and negetive images to train itself and thus detects images"
   ]
  },
  {
   "cell_type": "code",
   "execution_count": 8,
   "metadata": {},
   "outputs": [],
   "source": [
    "face_list=[]"
   ]
  },
  {
   "cell_type": "code",
   "execution_count": 9,
   "metadata": {
    "scrolled": false
   },
   "outputs": [
    {
     "name": "stdout",
     "output_type": "stream",
     "text": [
      "[array([161, 161, 157, ..., 108, 108,  95], dtype=uint8)]\n",
      "File exists\n"
     ]
    }
   ],
   "source": [
    "count=0\n",
    "while True:\n",
    "    count=0\n",
    "    captureStatus,frame = capture.read() #cap read return the frame and a boolean val\n",
    "                                  #if the img is captured correctly\n",
    "    if(captureStatus==False):\n",
    "        continue\n",
    "    gray_frame = cv2.cvtColor(frame,cv2.COLOR_BGR2GRAY)    \n",
    "    faces = classifier.detectMultiScale(gray_frame,1.5,5)\n",
    "    #print(faces)\n",
    "    faces = sorted(faces,key=lambda face:face[2]*face[3])\n",
    "    faces = faces[-1:] #last face i.e largest\n",
    "    if len(faces)==1:\n",
    "        face = faces[0]\n",
    "        x,y,z,h = face\n",
    "        cv2.rectangle(frame,(x,y),(x+z,y+h),(0,255,0),1)\n",
    "        detected_face = frame[y:y+h,x:x+z] \n",
    "        cv2.imshow(\"Detected face\",detected_face)\n",
    "    cv2.imshow(\"full frame\", frame)\n",
    "    key = cv2.waitKey(1)\n",
    "    if key & 0xFF == ord('q'): #END LOOP\n",
    "        break\n",
    "    elif key & 0xFF == ord('c'): #capture image and append\n",
    "        if len(faces)==1: \n",
    "            gray_face = cv2.cvtColor(detected_face, cv2.COLOR_BGR2GRAY)\n",
    "            gray_face = cv2.resize(gray_face, (100, 100)) \n",
    "            face_list.append(gray_face.reshape(-1))  \n",
    "        else: \n",
    "            print(\"face not found\") \n",
    "        if len(face_list) == 10: \n",
    "            break\n",
    "print(face_list)\n",
    "face_list = np.array(face_list)\n",
    "write_to_csv(name,face_list)\n",
    "capture.release() \n",
    "cv2.destroyAllWindows() "
   ]
  },
  {
   "cell_type": "code",
   "execution_count": 4,
   "metadata": {},
   "outputs": [],
   "source": [
    "\n",
    "df = pd.read_csv(\"/Users/Nidhi/Desktop/Jupyter Notebooks/datasets/face_data.csv\")"
   ]
  },
  {
   "cell_type": "code",
   "execution_count": 5,
   "metadata": {},
   "outputs": [
    {
     "data": {
      "text/html": [
       "<div>\n",
       "<style scoped>\n",
       "    .dataframe tbody tr th:only-of-type {\n",
       "        vertical-align: middle;\n",
       "    }\n",
       "\n",
       "    .dataframe tbody tr th {\n",
       "        vertical-align: top;\n",
       "    }\n",
       "\n",
       "    .dataframe thead th {\n",
       "        text-align: right;\n",
       "    }\n",
       "</style>\n",
       "<table border=\"1\" class=\"dataframe\">\n",
       "  <thead>\n",
       "    <tr style=\"text-align: right;\">\n",
       "      <th></th>\n",
       "      <th>Unnamed: 0</th>\n",
       "      <th>1.570000000000000000e+02</th>\n",
       "      <th>1.560000000000000000e+02</th>\n",
       "      <th>1.530000000000000000e+02</th>\n",
       "      <th>1.500000000000000000e+02</th>\n",
       "      <th>1.480000000000000000e+02</th>\n",
       "      <th>1.440000000000000000e+02</th>\n",
       "      <th>1.450000000000000000e+02</th>\n",
       "      <th>1.140000000000000000e+02</th>\n",
       "      <th>1.180000000000000000e+02</th>\n",
       "      <th>...</th>\n",
       "      <th>9991</th>\n",
       "      <th>9992</th>\n",
       "      <th>9993</th>\n",
       "      <th>9994</th>\n",
       "      <th>9995</th>\n",
       "      <th>9996</th>\n",
       "      <th>9997</th>\n",
       "      <th>9998</th>\n",
       "      <th>9999</th>\n",
       "      <th>name</th>\n",
       "    </tr>\n",
       "  </thead>\n",
       "  <tbody>\n",
       "    <tr>\n",
       "      <th>0</th>\n",
       "      <td>0</td>\n",
       "      <td>NaN</td>\n",
       "      <td>NaN</td>\n",
       "      <td>NaN</td>\n",
       "      <td>NaN</td>\n",
       "      <td>NaN</td>\n",
       "      <td>NaN</td>\n",
       "      <td>NaN</td>\n",
       "      <td>NaN</td>\n",
       "      <td>NaN</td>\n",
       "      <td>...</td>\n",
       "      <td>185.0</td>\n",
       "      <td>183.0</td>\n",
       "      <td>183.0</td>\n",
       "      <td>180.0</td>\n",
       "      <td>179.0</td>\n",
       "      <td>179.0</td>\n",
       "      <td>178.0</td>\n",
       "      <td>176.0</td>\n",
       "      <td>172.0</td>\n",
       "      <td>dh</td>\n",
       "    </tr>\n",
       "    <tr>\n",
       "      <th>1</th>\n",
       "      <td>1</td>\n",
       "      <td>NaN</td>\n",
       "      <td>NaN</td>\n",
       "      <td>NaN</td>\n",
       "      <td>NaN</td>\n",
       "      <td>NaN</td>\n",
       "      <td>NaN</td>\n",
       "      <td>NaN</td>\n",
       "      <td>NaN</td>\n",
       "      <td>NaN</td>\n",
       "      <td>...</td>\n",
       "      <td>13.0</td>\n",
       "      <td>27.0</td>\n",
       "      <td>15.0</td>\n",
       "      <td>12.0</td>\n",
       "      <td>14.0</td>\n",
       "      <td>15.0</td>\n",
       "      <td>14.0</td>\n",
       "      <td>16.0</td>\n",
       "      <td>15.0</td>\n",
       "      <td>Nidhi</td>\n",
       "    </tr>\n",
       "    <tr>\n",
       "      <th>2</th>\n",
       "      <td>2</td>\n",
       "      <td>NaN</td>\n",
       "      <td>NaN</td>\n",
       "      <td>NaN</td>\n",
       "      <td>NaN</td>\n",
       "      <td>NaN</td>\n",
       "      <td>NaN</td>\n",
       "      <td>NaN</td>\n",
       "      <td>NaN</td>\n",
       "      <td>NaN</td>\n",
       "      <td>...</td>\n",
       "      <td>171.0</td>\n",
       "      <td>141.0</td>\n",
       "      <td>156.0</td>\n",
       "      <td>189.0</td>\n",
       "      <td>152.0</td>\n",
       "      <td>137.0</td>\n",
       "      <td>108.0</td>\n",
       "      <td>108.0</td>\n",
       "      <td>95.0</td>\n",
       "      <td>Savitha</td>\n",
       "    </tr>\n",
       "  </tbody>\n",
       "</table>\n",
       "<p>3 rows × 20001 columns</p>\n",
       "</div>"
      ],
      "text/plain": [
       "   Unnamed: 0  1.570000000000000000e+02  1.560000000000000000e+02  \\\n",
       "0           0                       NaN                       NaN   \n",
       "1           1                       NaN                       NaN   \n",
       "2           2                       NaN                       NaN   \n",
       "\n",
       "   1.530000000000000000e+02  1.500000000000000000e+02  \\\n",
       "0                       NaN                       NaN   \n",
       "1                       NaN                       NaN   \n",
       "2                       NaN                       NaN   \n",
       "\n",
       "   1.480000000000000000e+02  1.440000000000000000e+02  \\\n",
       "0                       NaN                       NaN   \n",
       "1                       NaN                       NaN   \n",
       "2                       NaN                       NaN   \n",
       "\n",
       "   1.450000000000000000e+02  1.140000000000000000e+02  \\\n",
       "0                       NaN                       NaN   \n",
       "1                       NaN                       NaN   \n",
       "2                       NaN                       NaN   \n",
       "\n",
       "   1.180000000000000000e+02  ...   9991   9992   9993   9994   9995   9996  \\\n",
       "0                       NaN  ...  185.0  183.0  183.0  180.0  179.0  179.0   \n",
       "1                       NaN  ...   13.0   27.0   15.0   12.0   14.0   15.0   \n",
       "2                       NaN  ...  171.0  141.0  156.0  189.0  152.0  137.0   \n",
       "\n",
       "    9997   9998   9999     name  \n",
       "0  178.0  176.0  172.0       dh  \n",
       "1   14.0   16.0   15.0    Nidhi  \n",
       "2  108.0  108.0   95.0  Savitha  \n",
       "\n",
       "[3 rows x 20001 columns]"
      ]
     },
     "execution_count": 5,
     "metadata": {},
     "output_type": "execute_result"
    }
   ],
   "source": [
    "df.head()"
   ]
  },
  {
   "cell_type": "code",
   "execution_count": 6,
   "metadata": {},
   "outputs": [],
   "source": [
    "df.dropna(axis=1,inplace=True)"
   ]
  },
  {
   "cell_type": "code",
   "execution_count": 7,
   "metadata": {},
   "outputs": [],
   "source": [
    "x_train =df.values[:,1:-1] "
   ]
  },
  {
   "cell_type": "code",
   "execution_count": 8,
   "metadata": {},
   "outputs": [],
   "source": [
    "y_train = df.values[:,-1]"
   ]
  },
  {
   "cell_type": "code",
   "execution_count": 9,
   "metadata": {},
   "outputs": [
    {
     "data": {
      "text/plain": [
       "array(['dh', 'Nidhi', 'Savitha'], dtype=object)"
      ]
     },
     "execution_count": 9,
     "metadata": {},
     "output_type": "execute_result"
    }
   ],
   "source": [
    "x_train\n",
    "y_train"
   ]
  },
  {
   "cell_type": "code",
   "execution_count": 10,
   "metadata": {},
   "outputs": [],
   "source": [
    "knnModel = KNeighborsClassifier(n_neighbors = 3)"
   ]
  },
  {
   "cell_type": "code",
   "execution_count": 11,
   "metadata": {},
   "outputs": [
    {
     "data": {
      "text/plain": [
       "KNeighborsClassifier(n_neighbors=3)"
      ]
     },
     "execution_count": 11,
     "metadata": {},
     "output_type": "execute_result"
    }
   ],
   "source": [
    "knnModel.fit(x_train,y_train)"
   ]
  },
  {
   "cell_type": "code",
   "execution_count": 12,
   "metadata": {},
   "outputs": [],
   "source": [
    "captureImage = cv2.VideoCapture(0)"
   ]
  },
  {
   "cell_type": "code",
   "execution_count": 13,
   "metadata": {},
   "outputs": [],
   "source": [
    "classifier = cv2.CascadeClassifier(\"/Users/Nidhi/Desktop/Jupyter Notebooks/datasets/haarcascade_frontalface_default.xml\")"
   ]
  },
  {
   "cell_type": "code",
   "execution_count": 15,
   "metadata": {},
   "outputs": [],
   "source": [
    "while True:\n",
    "    captureStatus,frame = captureImage.read()\n",
    "    if(captureStatus==False):\n",
    "        continue\n",
    "    gray_frame = cv2.cvtColor(frame,cv2.COLOR_BGR2GRAY)    \n",
    "    faces = classifier.detectMultiScale(gray_frame,1.5,5)\n",
    "    x_test = []\n",
    "    for face in faces:\n",
    "        x,y,z,h = face\n",
    "        detectedFace = gray_frame[y:y+h,x:x+z]\n",
    "        detectedFace = cv2.resize(detectedFace,(100,100))\n",
    "        x_test.append(detectedFace.reshape(-1))\n",
    "    if len(faces)>0:\n",
    "        pred_y = knnModel.predict(np.array(x_test))\n",
    "        for name,face in enumerate(faces):\n",
    "            x,y,z,h = face\n",
    "            cv2.rectangle(frame,(x,y),(x+z,y+h),(0,255,0),1)\n",
    "            cv2.putText(frame,pred_y[name],(x-50, y-50), \n",
    "                              cv2.FONT_HERSHEY_DUPLEX, 2, \n",
    "                                         (0, 255, 0), 3)\n",
    "    cv2.imshow(\"Full frame\",frame)\n",
    "    if cv2.waitKey(1)&0xFF == ord('q'):\n",
    "        break\n",
    "\n",
    "captureImage.release() \n",
    "cv2.destroyAllWindows()         \n",
    "            \n",
    "    "
   ]
  },
  {
   "cell_type": "code",
   "execution_count": null,
   "metadata": {},
   "outputs": [],
   "source": []
  }
 ],
 "metadata": {
  "kernelspec": {
   "display_name": "Python 3",
   "language": "python",
   "name": "python3"
  },
  "language_info": {
   "codemirror_mode": {
    "name": "ipython",
    "version": 3
   },
   "file_extension": ".py",
   "mimetype": "text/x-python",
   "name": "python",
   "nbconvert_exporter": "python",
   "pygments_lexer": "ipython3",
   "version": "3.8.3"
  }
 },
 "nbformat": 4,
 "nbformat_minor": 4
}
